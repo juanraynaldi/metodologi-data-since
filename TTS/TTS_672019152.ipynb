{
  "cells": [
    {
      "cell_type": "markdown",
      "metadata": {
        "id": "Ypvu1UPjV5om"
      },
      "source": [
        "# **Petunjuk TTS**\n",
        "\n",
        "Silakan simpan file ke dalam bentuk **TTS_NIM.ipynb**. Tuliskan koding untuk dapat menampilkan hasil seperti yang diminta. Setelah selesai mengerjakan, silakan unggah ke GClass. Jangan sampai terlambat ya...keterlambatan mengakibatkan pengurangan nilai TTS.\n",
        "\n",
        "Have fun!"
      ]
    },
    {
      "cell_type": "markdown",
      "metadata": {
        "id": "IoFuMCW8F-44"
      },
      "source": [
        "### **1. Import Libraries**"
      ]
    },
    {
      "cell_type": "code",
      "execution_count": 53,
      "metadata": {
        "id": "CYwVqp1MFwpB"
      },
      "outputs": [],
      "source": [
        "# Silakan import librari yang kalian butuhkan (pandas, numpy, matplotlib, seaborn, dan missingno)\n",
        "import pandas as pd\n",
        "import numpy as np\n",
        "import matplotlib.pyplot as plt\n",
        "import missingno as msno\n",
        "\n",
        "\n"
      ]
    },
    {
      "cell_type": "code",
      "execution_count": 54,
      "metadata": {
        "id": "cnLXMZLUNZln"
      },
      "outputs": [],
      "source": [
        "# Ambil dataset dari (https://github.com/adelnehme/python-for-spreadsheet-users-webinar/blob/master/datasets/airbnb.csv?raw=true) dan simpan dengan nama variabel data\n",
        "df =pd.read_csv('airbnb.csv')\n"
      ]
    },
    {
      "cell_type": "code",
      "execution_count": 56,
      "metadata": {
        "colab": {
          "base_uri": "https://localhost:8080/",
          "height": 531
        },
        "id": "QBdiE3MBNgio",
        "outputId": "f020f93d-07af-46d4-c767-e0b329b53c84"
      },
      "outputs": [
        {
          "data": {
            "text/html": [
              "<div>\n",
              "<style scoped>\n",
              "    .dataframe tbody tr th:only-of-type {\n",
              "        vertical-align: middle;\n",
              "    }\n",
              "\n",
              "    .dataframe tbody tr th {\n",
              "        vertical-align: top;\n",
              "    }\n",
              "\n",
              "    .dataframe thead th {\n",
              "        text-align: right;\n",
              "    }\n",
              "</style>\n",
              "<table border=\"1\" class=\"dataframe\">\n",
              "  <thead>\n",
              "    <tr style=\"text-align: right;\">\n",
              "      <th></th>\n",
              "      <th>Unnamed: 0</th>\n",
              "      <th>listing_id</th>\n",
              "      <th>name</th>\n",
              "      <th>host_id</th>\n",
              "      <th>host_name</th>\n",
              "      <th>neighbourhood_full</th>\n",
              "      <th>coordinates</th>\n",
              "      <th>room_type</th>\n",
              "      <th>price</th>\n",
              "      <th>number_of_reviews</th>\n",
              "      <th>last_review</th>\n",
              "      <th>reviews_per_month</th>\n",
              "      <th>availability_365</th>\n",
              "      <th>rating</th>\n",
              "      <th>number_of_stays</th>\n",
              "      <th>5_stars</th>\n",
              "      <th>listing_added</th>\n",
              "    </tr>\n",
              "  </thead>\n",
              "  <tbody>\n",
              "    <tr>\n",
              "      <th>0</th>\n",
              "      <td>0</td>\n",
              "      <td>13740704</td>\n",
              "      <td>Cozy,budget friendly, cable inc, private entra...</td>\n",
              "      <td>20583125</td>\n",
              "      <td>Michel</td>\n",
              "      <td>Brooklyn, Flatlands</td>\n",
              "      <td>(40.63222, -73.93398)</td>\n",
              "      <td>Private room</td>\n",
              "      <td>45$</td>\n",
              "      <td>10</td>\n",
              "      <td>2018-12-12</td>\n",
              "      <td>0.70</td>\n",
              "      <td>85</td>\n",
              "      <td>4.100954</td>\n",
              "      <td>12.0</td>\n",
              "      <td>0.609432</td>\n",
              "      <td>2018-06-08</td>\n",
              "    </tr>\n",
              "    <tr>\n",
              "      <th>1</th>\n",
              "      <td>1</td>\n",
              "      <td>22005115</td>\n",
              "      <td>Two floor apartment near Central Park</td>\n",
              "      <td>82746113</td>\n",
              "      <td>Cecilia</td>\n",
              "      <td>Manhattan, Upper West Side</td>\n",
              "      <td>(40.78761, -73.96862)</td>\n",
              "      <td>Entire home/apt</td>\n",
              "      <td>135$</td>\n",
              "      <td>1</td>\n",
              "      <td>2019-06-30</td>\n",
              "      <td>1.00</td>\n",
              "      <td>145</td>\n",
              "      <td>3.367600</td>\n",
              "      <td>1.2</td>\n",
              "      <td>0.746135</td>\n",
              "      <td>2018-12-25</td>\n",
              "    </tr>\n",
              "    <tr>\n",
              "      <th>2</th>\n",
              "      <td>2</td>\n",
              "      <td>21667615</td>\n",
              "      <td>Beautiful 1BR in Brooklyn Heights</td>\n",
              "      <td>78251</td>\n",
              "      <td>Leslie</td>\n",
              "      <td>Brooklyn, Brooklyn Heights</td>\n",
              "      <td>(40.7007, -73.99517)</td>\n",
              "      <td>Entire home/apt</td>\n",
              "      <td>150$</td>\n",
              "      <td>0</td>\n",
              "      <td>NaN</td>\n",
              "      <td>NaN</td>\n",
              "      <td>65</td>\n",
              "      <td>NaN</td>\n",
              "      <td>NaN</td>\n",
              "      <td>NaN</td>\n",
              "      <td>2018-08-15</td>\n",
              "    </tr>\n",
              "    <tr>\n",
              "      <th>3</th>\n",
              "      <td>3</td>\n",
              "      <td>6425850</td>\n",
              "      <td>Spacious, charming studio</td>\n",
              "      <td>32715865</td>\n",
              "      <td>Yelena</td>\n",
              "      <td>Manhattan, Upper West Side</td>\n",
              "      <td>(40.79169, -73.97498)</td>\n",
              "      <td>Entire home/apt</td>\n",
              "      <td>86$</td>\n",
              "      <td>5</td>\n",
              "      <td>2017-09-23</td>\n",
              "      <td>0.13</td>\n",
              "      <td>0</td>\n",
              "      <td>4.763203</td>\n",
              "      <td>6.0</td>\n",
              "      <td>0.769947</td>\n",
              "      <td>2017-03-20</td>\n",
              "    </tr>\n",
              "    <tr>\n",
              "      <th>4</th>\n",
              "      <td>4</td>\n",
              "      <td>22986519</td>\n",
              "      <td>Bedroom on the lively Lower East Side</td>\n",
              "      <td>154262349</td>\n",
              "      <td>Brooke</td>\n",
              "      <td>Manhattan, Lower East Side</td>\n",
              "      <td>(40.71884, -73.98354)</td>\n",
              "      <td>Private room</td>\n",
              "      <td>160$</td>\n",
              "      <td>23</td>\n",
              "      <td>2019-06-12</td>\n",
              "      <td>2.29</td>\n",
              "      <td>102</td>\n",
              "      <td>3.822591</td>\n",
              "      <td>27.6</td>\n",
              "      <td>0.649383</td>\n",
              "      <td>2020-10-23</td>\n",
              "    </tr>\n",
              "  </tbody>\n",
              "</table>\n",
              "</div>"
            ],
            "text/plain": [
              "   Unnamed: 0  listing_id                                               name  \\\n",
              "0           0    13740704  Cozy,budget friendly, cable inc, private entra...   \n",
              "1           1    22005115              Two floor apartment near Central Park   \n",
              "2           2    21667615                  Beautiful 1BR in Brooklyn Heights   \n",
              "3           3     6425850                          Spacious, charming studio   \n",
              "4           4    22986519              Bedroom on the lively Lower East Side   \n",
              "\n",
              "     host_id host_name          neighbourhood_full            coordinates  \\\n",
              "0   20583125    Michel         Brooklyn, Flatlands  (40.63222, -73.93398)   \n",
              "1   82746113   Cecilia  Manhattan, Upper West Side  (40.78761, -73.96862)   \n",
              "2      78251    Leslie  Brooklyn, Brooklyn Heights   (40.7007, -73.99517)   \n",
              "3   32715865    Yelena  Manhattan, Upper West Side  (40.79169, -73.97498)   \n",
              "4  154262349    Brooke  Manhattan, Lower East Side  (40.71884, -73.98354)   \n",
              "\n",
              "         room_type price  number_of_reviews last_review  reviews_per_month  \\\n",
              "0     Private room   45$                 10  2018-12-12               0.70   \n",
              "1  Entire home/apt  135$                  1  2019-06-30               1.00   \n",
              "2  Entire home/apt  150$                  0         NaN                NaN   \n",
              "3  Entire home/apt   86$                  5  2017-09-23               0.13   \n",
              "4     Private room  160$                 23  2019-06-12               2.29   \n",
              "\n",
              "   availability_365    rating  number_of_stays   5_stars listing_added  \n",
              "0                85  4.100954             12.0  0.609432    2018-06-08  \n",
              "1               145  3.367600              1.2  0.746135    2018-12-25  \n",
              "2                65       NaN              NaN       NaN    2018-08-15  \n",
              "3                 0  4.763203              6.0  0.769947    2017-03-20  \n",
              "4               102  3.822591             27.6  0.649383    2020-10-23  "
            ]
          },
          "execution_count": 56,
          "metadata": {},
          "output_type": "execute_result"
        }
      ],
      "source": [
        "# Lihat 5 data teratas pada DataFrame \"data\"\n",
        "df.head()"
      ]
    },
    {
      "cell_type": "code",
      "execution_count": 57,
      "metadata": {
        "colab": {
          "base_uri": "https://localhost:8080/"
        },
        "id": "BNE2SaGvNra3",
        "outputId": "5652c5eb-efe7-45d4-a19e-ba9892dc0e07"
      },
      "outputs": [
        {
          "data": {
            "text/plain": [
              "pandas.core.series.Series"
            ]
          },
          "execution_count": 57,
          "metadata": {},
          "output_type": "execute_result"
        }
      ],
      "source": [
        "# Cek tipe data dalam \"data\"\n",
        "type(df.dtypes)"
      ]
    },
    {
      "cell_type": "markdown",
      "metadata": {
        "id": "Tbe-8a0PQLt9"
      },
      "source": [
        "### **2. Membersihkan Data**"
      ]
    },
    {
      "cell_type": "markdown",
      "metadata": {
        "id": "E-3UvLG3QSuU"
      },
      "source": [
        "**Challenge 1**: Ganti `coordinates` dengan kolom `latitude` dan `longitude`"
      ]
    },
    {
      "cell_type": "code",
      "execution_count": 97,
      "metadata": {
        "colab": {
          "base_uri": "https://localhost:8080/"
        },
        "id": "MzyrK_11P1i3",
        "outputId": "c93bab4b-8f01-4263-c44d-4a3d3f9022d8"
      },
      "outputs": [
        {
          "name": "stderr",
          "output_type": "stream",
          "text": [
            "C:\\Users\\My Windows\\AppData\\Local\\Temp\\ipykernel_2896\\3918226601.py:2: FutureWarning: The default value of regex will change from True to False in a future version. In addition, single character regular expressions will *not* be treated as literal strings when regex=True.\n",
            "  data['coordinates'] = data['coordinates'].str.replace(\"(\", \"\")\n",
            "C:\\Users\\My Windows\\AppData\\Local\\Temp\\ipykernel_2896\\3918226601.py:3: FutureWarning: The default value of regex will change from True to False in a future version. In addition, single character regular expressions will *not* be treated as literal strings when regex=True.\n",
            "  data['coordinates'] = data['coordinates'].str.replace(\")\", \"\")\n"
          ]
        }
      ],
      "source": [
        "# Hapus tanda \"(\" dan \")\" dari kolom coordinates\n",
        "data['coordinates'] = data['coordinates'].str.replace(\"(\", \"\")\n",
        "data['coordinates'] = data['coordinates'].str.replace(\")\", \"\")"
      ]
    },
    {
      "cell_type": "code",
      "execution_count": 98,
      "metadata": {
        "colab": {
          "base_uri": "https://localhost:8080/"
        },
        "id": "1shmvP0-Yep9",
        "outputId": "86f1c4a1-aa75-43eb-9504-141e226cab65"
      },
      "outputs": [
        {
          "data": {
            "text/plain": [
              "0    40.63222, -73.93398\n",
              "1    40.78761, -73.96862\n",
              "2     40.7007, -73.99517\n",
              "3    40.79169, -73.97498\n",
              "4    40.71884, -73.98354\n",
              "Name: coordinates, dtype: object"
            ]
          },
          "execution_count": 98,
          "metadata": {},
          "output_type": "execute_result"
        }
      ],
      "source": [
        "# Cetak 5 data paling atas dari kolom coordinates\n",
        "data ['coordinates'].head()"
      ]
    },
    {
      "cell_type": "code",
      "execution_count": 99,
      "metadata": {
        "colab": {
          "base_uri": "https://localhost:8080/",
          "height": 206
        },
        "id": "s2fRuKGIQxkm",
        "outputId": "3c7250ac-ccf2-4cef-a472-546b9c254809"
      },
      "outputs": [],
      "source": [
        "# Lakukan split data di kolom coordinates, beri nama lat_long\n",
        "lat_long = data['coordinates'].str.split(\",\", expand= True)"
      ]
    },
    {
      "cell_type": "code",
      "execution_count": 100,
      "metadata": {
        "id": "kQNz2paZQ1Sb"
      },
      "outputs": [],
      "source": [
        "# Buat supaya latitude berisi nilai lat_long[0] dan longitude berisi nilai lat_long[1]\n",
        "data['latitude'] = lat_long[0]\n",
        "data['longitude'] = lat_long[1]"
      ]
    },
    {
      "cell_type": "code",
      "execution_count": 101,
      "metadata": {
        "colab": {
          "base_uri": "https://localhost:8080/",
          "height": 531
        },
        "id": "E9yV57NFZb-g",
        "outputId": "0f8ea3d1-d811-449c-af8b-bbdaeddee2f2"
      },
      "outputs": [
        {
          "data": {
            "text/html": [
              "<div>\n",
              "<style scoped>\n",
              "    .dataframe tbody tr th:only-of-type {\n",
              "        vertical-align: middle;\n",
              "    }\n",
              "\n",
              "    .dataframe tbody tr th {\n",
              "        vertical-align: top;\n",
              "    }\n",
              "\n",
              "    .dataframe thead th {\n",
              "        text-align: right;\n",
              "    }\n",
              "</style>\n",
              "<table border=\"1\" class=\"dataframe\">\n",
              "  <thead>\n",
              "    <tr style=\"text-align: right;\">\n",
              "      <th></th>\n",
              "      <th>Unnamed: 0</th>\n",
              "      <th>listing_id</th>\n",
              "      <th>name</th>\n",
              "      <th>host_id</th>\n",
              "      <th>host_name</th>\n",
              "      <th>neighbourhood_full</th>\n",
              "      <th>coordinates</th>\n",
              "      <th>room_type</th>\n",
              "      <th>price</th>\n",
              "      <th>number_of_reviews</th>\n",
              "      <th>last_review</th>\n",
              "      <th>reviews_per_month</th>\n",
              "      <th>availability_365</th>\n",
              "      <th>rating</th>\n",
              "      <th>number_of_stays</th>\n",
              "      <th>5_stars</th>\n",
              "      <th>listing_added</th>\n",
              "      <th>latitude</th>\n",
              "      <th>longitude</th>\n",
              "    </tr>\n",
              "  </thead>\n",
              "  <tbody>\n",
              "    <tr>\n",
              "      <th>0</th>\n",
              "      <td>0</td>\n",
              "      <td>13740704</td>\n",
              "      <td>Cozy,budget friendly, cable inc, private entra...</td>\n",
              "      <td>20583125</td>\n",
              "      <td>Michel</td>\n",
              "      <td>Brooklyn, Flatlands</td>\n",
              "      <td>40.63222, -73.93398</td>\n",
              "      <td>Private room</td>\n",
              "      <td>45$</td>\n",
              "      <td>10</td>\n",
              "      <td>2018-12-12</td>\n",
              "      <td>0.70</td>\n",
              "      <td>85</td>\n",
              "      <td>4.100954</td>\n",
              "      <td>12.0</td>\n",
              "      <td>0.609432</td>\n",
              "      <td>2018-06-08</td>\n",
              "      <td>40.63222</td>\n",
              "      <td>-73.93398</td>\n",
              "    </tr>\n",
              "    <tr>\n",
              "      <th>1</th>\n",
              "      <td>1</td>\n",
              "      <td>22005115</td>\n",
              "      <td>Two floor apartment near Central Park</td>\n",
              "      <td>82746113</td>\n",
              "      <td>Cecilia</td>\n",
              "      <td>Manhattan, Upper West Side</td>\n",
              "      <td>40.78761, -73.96862</td>\n",
              "      <td>Entire home/apt</td>\n",
              "      <td>135$</td>\n",
              "      <td>1</td>\n",
              "      <td>2019-06-30</td>\n",
              "      <td>1.00</td>\n",
              "      <td>145</td>\n",
              "      <td>3.367600</td>\n",
              "      <td>1.2</td>\n",
              "      <td>0.746135</td>\n",
              "      <td>2018-12-25</td>\n",
              "      <td>40.78761</td>\n",
              "      <td>-73.96862</td>\n",
              "    </tr>\n",
              "    <tr>\n",
              "      <th>2</th>\n",
              "      <td>2</td>\n",
              "      <td>21667615</td>\n",
              "      <td>Beautiful 1BR in Brooklyn Heights</td>\n",
              "      <td>78251</td>\n",
              "      <td>Leslie</td>\n",
              "      <td>Brooklyn, Brooklyn Heights</td>\n",
              "      <td>40.7007, -73.99517</td>\n",
              "      <td>Entire home/apt</td>\n",
              "      <td>150$</td>\n",
              "      <td>0</td>\n",
              "      <td>NaN</td>\n",
              "      <td>NaN</td>\n",
              "      <td>65</td>\n",
              "      <td>NaN</td>\n",
              "      <td>NaN</td>\n",
              "      <td>NaN</td>\n",
              "      <td>2018-08-15</td>\n",
              "      <td>40.7007</td>\n",
              "      <td>-73.99517</td>\n",
              "    </tr>\n",
              "    <tr>\n",
              "      <th>3</th>\n",
              "      <td>3</td>\n",
              "      <td>6425850</td>\n",
              "      <td>Spacious, charming studio</td>\n",
              "      <td>32715865</td>\n",
              "      <td>Yelena</td>\n",
              "      <td>Manhattan, Upper West Side</td>\n",
              "      <td>40.79169, -73.97498</td>\n",
              "      <td>Entire home/apt</td>\n",
              "      <td>86$</td>\n",
              "      <td>5</td>\n",
              "      <td>2017-09-23</td>\n",
              "      <td>0.13</td>\n",
              "      <td>0</td>\n",
              "      <td>4.763203</td>\n",
              "      <td>6.0</td>\n",
              "      <td>0.769947</td>\n",
              "      <td>2017-03-20</td>\n",
              "      <td>40.79169</td>\n",
              "      <td>-73.97498</td>\n",
              "    </tr>\n",
              "    <tr>\n",
              "      <th>4</th>\n",
              "      <td>4</td>\n",
              "      <td>22986519</td>\n",
              "      <td>Bedroom on the lively Lower East Side</td>\n",
              "      <td>154262349</td>\n",
              "      <td>Brooke</td>\n",
              "      <td>Manhattan, Lower East Side</td>\n",
              "      <td>40.71884, -73.98354</td>\n",
              "      <td>Private room</td>\n",
              "      <td>160$</td>\n",
              "      <td>23</td>\n",
              "      <td>2019-06-12</td>\n",
              "      <td>2.29</td>\n",
              "      <td>102</td>\n",
              "      <td>3.822591</td>\n",
              "      <td>27.6</td>\n",
              "      <td>0.649383</td>\n",
              "      <td>2020-10-23</td>\n",
              "      <td>40.71884</td>\n",
              "      <td>-73.98354</td>\n",
              "    </tr>\n",
              "    <tr>\n",
              "      <th>5</th>\n",
              "      <td>5</td>\n",
              "      <td>271954</td>\n",
              "      <td>Beautiful brownstone apartment</td>\n",
              "      <td>1423798</td>\n",
              "      <td>Aj</td>\n",
              "      <td>Manhattan, Greenwich Village</td>\n",
              "      <td>40.73388, -73.99452</td>\n",
              "      <td>Entire home/apt</td>\n",
              "      <td>150$</td>\n",
              "      <td>203</td>\n",
              "      <td>2019-06-20</td>\n",
              "      <td>2.22</td>\n",
              "      <td>300</td>\n",
              "      <td>4.478396</td>\n",
              "      <td>243.6</td>\n",
              "      <td>0.743500</td>\n",
              "      <td>2018-12-15</td>\n",
              "      <td>40.73388</td>\n",
              "      <td>-73.99452</td>\n",
              "    </tr>\n",
              "    <tr>\n",
              "      <th>6</th>\n",
              "      <td>6</td>\n",
              "      <td>33473567</td>\n",
              "      <td>Hamilton Heights Full Floor Garden Apt</td>\n",
              "      <td>33388853</td>\n",
              "      <td>Christine</td>\n",
              "      <td>Manhattan, Harlem</td>\n",
              "      <td>40.8309, -73.94308000000002</td>\n",
              "      <td>Entire home/apt</td>\n",
              "      <td>200$</td>\n",
              "      <td>0</td>\n",
              "      <td>NaN</td>\n",
              "      <td>NaN</td>\n",
              "      <td>219</td>\n",
              "      <td>NaN</td>\n",
              "      <td>NaN</td>\n",
              "      <td>NaN</td>\n",
              "      <td>2018-05-05</td>\n",
              "      <td>40.8309</td>\n",
              "      <td>-73.94308000000002</td>\n",
              "    </tr>\n",
              "    <tr>\n",
              "      <th>7</th>\n",
              "      <td>7</td>\n",
              "      <td>14218742</td>\n",
              "      <td>Luxury/3bedroom/3bthrm/Privateprkng/beach/rstrnts</td>\n",
              "      <td>78824908</td>\n",
              "      <td>Ilona</td>\n",
              "      <td>Brooklyn, Sheepshead Bay</td>\n",
              "      <td>40.58531, -73.93811</td>\n",
              "      <td>Entire home/apt</td>\n",
              "      <td>224$</td>\n",
              "      <td>2</td>\n",
              "      <td>2018-06-22</td>\n",
              "      <td>0.08</td>\n",
              "      <td>353</td>\n",
              "      <td>4.091228</td>\n",
              "      <td>2.4</td>\n",
              "      <td>0.690393</td>\n",
              "      <td>2017-12-17</td>\n",
              "      <td>40.58531</td>\n",
              "      <td>-73.93811</td>\n",
              "    </tr>\n",
              "    <tr>\n",
              "      <th>8</th>\n",
              "      <td>8</td>\n",
              "      <td>15125599</td>\n",
              "      <td>Beautiful One Bedroom Apartment Near Central Park</td>\n",
              "      <td>3191545</td>\n",
              "      <td>Kyle</td>\n",
              "      <td>Manhattan, Theater District</td>\n",
              "      <td>40.761, -73.98522</td>\n",
              "      <td>Entire home/apt</td>\n",
              "      <td>169$</td>\n",
              "      <td>5</td>\n",
              "      <td>2017-06-25</td>\n",
              "      <td>0.15</td>\n",
              "      <td>365</td>\n",
              "      <td>3.562947</td>\n",
              "      <td>6.0</td>\n",
              "      <td>0.704538</td>\n",
              "      <td>2016-12-20</td>\n",
              "      <td>40.761</td>\n",
              "      <td>-73.98522</td>\n",
              "    </tr>\n",
              "    <tr>\n",
              "      <th>9</th>\n",
              "      <td>9</td>\n",
              "      <td>24553891</td>\n",
              "      <td>Enjoy all of Manhattan. Big Apple! A Mini-MOMA!</td>\n",
              "      <td>68557372</td>\n",
              "      <td>Shannon</td>\n",
              "      <td>Manhattan, Harlem</td>\n",
              "      <td>40.80667, -73.95182</td>\n",
              "      <td>Entire home/apt</td>\n",
              "      <td>75$</td>\n",
              "      <td>8</td>\n",
              "      <td>2019-04-24</td>\n",
              "      <td>0.66</td>\n",
              "      <td>9</td>\n",
              "      <td>4.695769</td>\n",
              "      <td>9.6</td>\n",
              "      <td>0.750073</td>\n",
              "      <td>2018-10-19</td>\n",
              "      <td>40.80667</td>\n",
              "      <td>-73.95182</td>\n",
              "    </tr>\n",
              "  </tbody>\n",
              "</table>\n",
              "</div>"
            ],
            "text/plain": [
              "   Unnamed: 0  listing_id                                               name  \\\n",
              "0           0    13740704  Cozy,budget friendly, cable inc, private entra...   \n",
              "1           1    22005115              Two floor apartment near Central Park   \n",
              "2           2    21667615                  Beautiful 1BR in Brooklyn Heights   \n",
              "3           3     6425850                          Spacious, charming studio   \n",
              "4           4    22986519              Bedroom on the lively Lower East Side   \n",
              "5           5      271954                     Beautiful brownstone apartment   \n",
              "6           6    33473567             Hamilton Heights Full Floor Garden Apt   \n",
              "7           7    14218742  Luxury/3bedroom/3bthrm/Privateprkng/beach/rstrnts   \n",
              "8           8    15125599  Beautiful One Bedroom Apartment Near Central Park   \n",
              "9           9    24553891    Enjoy all of Manhattan. Big Apple! A Mini-MOMA!   \n",
              "\n",
              "     host_id  host_name            neighbourhood_full  \\\n",
              "0   20583125     Michel           Brooklyn, Flatlands   \n",
              "1   82746113    Cecilia    Manhattan, Upper West Side   \n",
              "2      78251     Leslie    Brooklyn, Brooklyn Heights   \n",
              "3   32715865     Yelena    Manhattan, Upper West Side   \n",
              "4  154262349     Brooke    Manhattan, Lower East Side   \n",
              "5    1423798         Aj  Manhattan, Greenwich Village   \n",
              "6   33388853  Christine             Manhattan, Harlem   \n",
              "7   78824908      Ilona      Brooklyn, Sheepshead Bay   \n",
              "8    3191545       Kyle   Manhattan, Theater District   \n",
              "9   68557372    Shannon             Manhattan, Harlem   \n",
              "\n",
              "                   coordinates        room_type price  number_of_reviews  \\\n",
              "0          40.63222, -73.93398     Private room   45$                 10   \n",
              "1          40.78761, -73.96862  Entire home/apt  135$                  1   \n",
              "2           40.7007, -73.99517  Entire home/apt  150$                  0   \n",
              "3          40.79169, -73.97498  Entire home/apt   86$                  5   \n",
              "4          40.71884, -73.98354     Private room  160$                 23   \n",
              "5          40.73388, -73.99452  Entire home/apt  150$                203   \n",
              "6  40.8309, -73.94308000000002  Entire home/apt  200$                  0   \n",
              "7          40.58531, -73.93811  Entire home/apt  224$                  2   \n",
              "8            40.761, -73.98522  Entire home/apt  169$                  5   \n",
              "9          40.80667, -73.95182  Entire home/apt   75$                  8   \n",
              "\n",
              "  last_review  reviews_per_month  availability_365    rating  number_of_stays  \\\n",
              "0  2018-12-12               0.70                85  4.100954             12.0   \n",
              "1  2019-06-30               1.00               145  3.367600              1.2   \n",
              "2         NaN                NaN                65       NaN              NaN   \n",
              "3  2017-09-23               0.13                 0  4.763203              6.0   \n",
              "4  2019-06-12               2.29               102  3.822591             27.6   \n",
              "5  2019-06-20               2.22               300  4.478396            243.6   \n",
              "6         NaN                NaN               219       NaN              NaN   \n",
              "7  2018-06-22               0.08               353  4.091228              2.4   \n",
              "8  2017-06-25               0.15               365  3.562947              6.0   \n",
              "9  2019-04-24               0.66                 9  4.695769              9.6   \n",
              "\n",
              "    5_stars listing_added  latitude            longitude  \n",
              "0  0.609432    2018-06-08  40.63222            -73.93398  \n",
              "1  0.746135    2018-12-25  40.78761            -73.96862  \n",
              "2       NaN    2018-08-15   40.7007            -73.99517  \n",
              "3  0.769947    2017-03-20  40.79169            -73.97498  \n",
              "4  0.649383    2020-10-23  40.71884            -73.98354  \n",
              "5  0.743500    2018-12-15  40.73388            -73.99452  \n",
              "6       NaN    2018-05-05   40.8309   -73.94308000000002  \n",
              "7  0.690393    2017-12-17  40.58531            -73.93811  \n",
              "8  0.704538    2016-12-20    40.761            -73.98522  \n",
              "9  0.750073    2018-10-19  40.80667            -73.95182  "
            ]
          },
          "execution_count": 101,
          "metadata": {},
          "output_type": "execute_result"
        }
      ],
      "source": [
        "# Cetak data\n",
        "data.head(10)"
      ]
    },
    {
      "cell_type": "code",
      "execution_count": 102,
      "metadata": {
        "id": "C0zGpOgLQ8rX"
      },
      "outputs": [],
      "source": [
        "# Konversi nilai latitude dan longitude menjadi FLOAT\n",
        "data['latitude'] = data['latitude'].astype (float)\n",
        "data['longitude'] = data['longitude'].astype (float)"
      ]
    },
    {
      "cell_type": "code",
      "execution_count": 104,
      "metadata": {
        "colab": {
          "base_uri": "https://localhost:8080/"
        },
        "id": "ebEpDC77ZuTu",
        "outputId": "7c687e10-d6a0-4efd-d8f7-20e5da639ee9"
      },
      "outputs": [
        {
          "data": {
            "text/plain": [
              "Unnamed: 0              int64\n",
              "listing_id              int64\n",
              "name                   object\n",
              "host_id                 int64\n",
              "host_name              object\n",
              "neighbourhood_full     object\n",
              "coordinates            object\n",
              "room_type              object\n",
              "price                  object\n",
              "number_of_reviews       int64\n",
              "last_review            object\n",
              "reviews_per_month     float64\n",
              "availability_365        int64\n",
              "rating                float64\n",
              "number_of_stays       float64\n",
              "5_stars               float64\n",
              "listing_added          object\n",
              "latitude              float64\n",
              "longitude             float64\n",
              "dtype: object"
            ]
          },
          "execution_count": 104,
          "metadata": {},
          "output_type": "execute_result"
        }
      ],
      "source": [
        "# Cek tipe data sekali lagi\n",
        "data.dtypes"
      ]
    },
    {
      "cell_type": "code",
      "execution_count": 107,
      "metadata": {
        "id": "r7D3PugDRC-s"
      },
      "outputs": [
        {
          "data": {
            "text/plain": [
              "0             40.63222, -73.93398\n",
              "1             40.78761, -73.96862\n",
              "2              40.7007, -73.99517\n",
              "3             40.79169, -73.97498\n",
              "4             40.71884, -73.98354\n",
              "5             40.73388, -73.99452\n",
              "6     40.8309, -73.94308000000002\n",
              "7             40.58531, -73.93811\n",
              "8               40.761, -73.98522\n",
              "9             40.80667, -73.95182\n",
              "10            40.70103, -73.91901\n",
              "11             40.6688, -73.74384\n",
              "Name: coordinates, dtype: object"
            ]
          },
          "execution_count": 107,
          "metadata": {},
          "output_type": "execute_result"
        }
      ],
      "source": [
        "# Hapus kolom coordinates\n",
        "data['coordinates'].head(12)"
      ]
    },
    {
      "cell_type": "code",
      "execution_count": 109,
      "metadata": {
        "colab": {
          "base_uri": "https://localhost:8080/",
          "height": 531
        },
        "id": "8d1pzXydZ51_",
        "outputId": "92c184c7-d374-4995-ee94-a0ec1bc45a86"
      },
      "outputs": [
        {
          "data": {
            "text/plain": [
              "Unnamed: 0              int64\n",
              "listing_id              int64\n",
              "name                   object\n",
              "host_id                 int64\n",
              "host_name              object\n",
              "neighbourhood_full     object\n",
              "coordinates            object\n",
              "room_type              object\n",
              "price                  object\n",
              "number_of_reviews       int64\n",
              "last_review            object\n",
              "reviews_per_month     float64\n",
              "availability_365        int64\n",
              "rating                float64\n",
              "number_of_stays       float64\n",
              "5_stars               float64\n",
              "listing_added          object\n",
              "latitude              float64\n",
              "longitude             float64\n",
              "dtype: object"
            ]
          },
          "execution_count": 109,
          "metadata": {},
          "output_type": "execute_result"
        }
      ],
      "source": [
        "# Cetak data sekali lagi\n",
        "data.dtypes"
      ]
    },
    {
      "cell_type": "markdown",
      "metadata": {
        "id": "zlzJPLK0RSr9"
      },
      "source": [
        "**Challenge 2**: Hapus `$` dari kolom `price` dan konversi ke `float`"
      ]
    },
    {
      "cell_type": "code",
      "execution_count": 125,
      "metadata": {
        "id": "Su6AjSotRHL-"
      },
      "outputs": [],
      "source": [
        "# Hapus tanda dolar ($) dari kolom price sebelum nantinya akan kita konversi ke tipe data FLOAT\n",
        "data['price'] = data['price'].str.strip(\"$\")"
      ]
    },
    {
      "cell_type": "code",
      "execution_count": 127,
      "metadata": {
        "colab": {
          "base_uri": "https://localhost:8080/"
        },
        "id": "_kXrFJ_IaVq2",
        "outputId": "e360f9f3-9676-4adb-c139-00335cb0fe1b"
      },
      "outputs": [
        {
          "name": "stdout",
          "output_type": "stream",
          "text": [
            "0     45\n",
            "1    135\n",
            "2    150\n",
            "3     86\n",
            "4    160\n",
            "Name: price, dtype: object\n"
          ]
        }
      ],
      "source": [
        "# Cetak untuk melihat apakah sudah terjadi perubahan pada kolom price\n",
        "print(data.price.head())"
      ]
    },
    {
      "cell_type": "code",
      "execution_count": 128,
      "metadata": {
        "id": "qTpZJaY1Rdhd"
      },
      "outputs": [],
      "source": [
        "# Konversi kolom price ke bentuk FLOAT\n",
        "data['price'] = data['price'].astype (float)"
      ]
    },
    {
      "cell_type": "code",
      "execution_count": 129,
      "metadata": {
        "colab": {
          "base_uri": "https://localhost:8080/"
        },
        "id": "5R0Ge4alawMn",
        "outputId": "74fac177-4edc-4e15-e0ad-14565d3f19fb"
      },
      "outputs": [
        {
          "data": {
            "text/plain": [
              "150.90512217564665"
            ]
          },
          "execution_count": 129,
          "metadata": {},
          "output_type": "execute_result"
        }
      ],
      "source": [
        "# Hitung nilai mean dari kolom price setelah dikonversi\n",
        "data_mean = data['price'].mean()\n",
        "data_mean"
      ]
    },
    {
      "cell_type": "code",
      "execution_count": 135,
      "metadata": {
        "colab": {
          "base_uri": "https://localhost:8080/",
          "height": 368
        },
        "id": "GH4hcs4kRx99",
        "outputId": "5606090d-31c8-4dfa-abb1-20edc7004cb6"
      },
      "outputs": [
        {
          "data": {
            "text/plain": [
              "<function matplotlib.pyplot.plot(*args, scalex=True, scaley=True, data=None, **kwargs)>"
            ]
          },
          "execution_count": 135,
          "metadata": {},
          "output_type": "execute_result"
        },
        {
          "data": {
            "image/png": "[encoded data removed]",
            "text/plain": [
              "<Figure size 360x360 with 1 Axes>"
            ]
          },
          "metadata": {
            "needs_background": "light"
          },
          "output_type": "display_data"
        }
      ],
      "source": [
        "# Buat visualisasi distribusi dari kolom prices\n",
        "sns.displot(data['price'], bins = 20)\n",
        "plt.plot"
      ]
    },
    {
      "cell_type": "markdown",
      "metadata": {
        "id": "6Lgkb8nBSa42"
      },
      "source": [
        "**Challenge 3**: Kita buat supaya kolom `room_type` benar-benar rapi secara kategori."
      ]
    },
    {
      "cell_type": "code",
      "execution_count": 121,
      "metadata": {
        "colab": {
          "base_uri": "https://localhost:8080/"
        },
        "id": "MkLeUjVUSO2u",
        "outputId": "c5e86b0d-d4cc-409f-ddc1-0df95421f34b"
      },
      "outputs": [
        {
          "data": {
            "text/plain": [
              "array(['private room', 'entire home/apt', 'private', 'shared room',\n",
              "       'home', '   shared room      '], dtype=object)"
            ]
          },
          "execution_count": 121,
          "metadata": {},
          "output_type": "execute_result"
        }
      ],
      "source": [
        "# Cetak supaya tahu kategori apa saja yang ada di kolom `room_type`\n",
        "data['room_type'].unique()"
      ]
    },
    {
      "cell_type": "code",
      "execution_count": 116,
      "metadata": {
        "colab": {
          "base_uri": "https://localhost:8080/"
        },
        "id": "i25lxq3VSm32",
        "outputId": "8b4e90e8-20e5-479c-cc8c-021f5638413d"
      },
      "outputs": [
        {
          "data": {
            "text/plain": [
              "array(['private room', 'entire home/apt', 'private', 'shared room',\n",
              "       'home', '   shared room      '], dtype=object)"
            ]
          },
          "execution_count": 116,
          "metadata": {},
          "output_type": "execute_result"
        }
      ],
      "source": [
        "# Buat supaya semua berubah menjadi huruf kecil\n",
        "data['room_type'] = data['room_type'].str.lower()\n",
        "data ['room_type'].unique()"
      ]
    },
    {
      "cell_type": "code",
      "execution_count": 122,
      "metadata": {
        "colab": {
          "base_uri": "https://localhost:8080/"
        },
        "id": "PVOMa8zqSpCQ",
        "outputId": "e6cf2f62-b406-4923-c800-3d93ce237c35"
      },
      "outputs": [
        {
          "data": {
            "text/plain": [
              "array(['private room', 'entire home/apt', 'private', 'shared room',\n",
              "       'home'], dtype=object)"
            ]
          },
          "execution_count": 122,
          "metadata": {},
          "output_type": "execute_result"
        }
      ],
      "source": [
        "# Buat supaya tidak ada spasi di awal dan akhir\n",
        "data['room_type'] = data['room_type'].str.strip()\n",
        "data ['room_type'].unique()"
      ]
    },
    {
      "cell_type": "code",
      "execution_count": 123,
      "metadata": {
        "colab": {
          "base_uri": "https://localhost:8080/"
        },
        "id": "KaaDEmmFSrbR",
        "outputId": "a601ee4b-0b66-4ed4-89b3-a2fb74e9a110"
      },
      "outputs": [],
      "source": [
        "# Ganti menjadi kategori 'Shared room', 'Entire place', 'Private room' dan 'Hotel room'\n",
        "mapping = {\n",
        "    'private room' : 'Private Room',\n",
        "    'private' : 'Private Room',\n",
        "    'entire home/apt' : 'Entire Place',\n",
        "    'shared room' : 'Shared Room',\n",
        "    'home': 'Hotel Room'\n",
        "}\n",
        "\n",
        "for key in mapping.keys():\n",
        "    data['room_type'] = data['room_type'].str.replace(key, mapping[key])"
      ]
    },
    {
      "cell_type": "code",
      "execution_count": 124,
      "metadata": {
        "colab": {
          "base_uri": "https://localhost:8080/",
          "height": 531
        },
        "id": "9GE3uwJlcj_O",
        "outputId": "4632e58d-29a1-4f03-acc2-10326f1101a5"
      },
      "outputs": [
        {
          "data": {
            "text/html": [
              "<div>\n",
              "<style scoped>\n",
              "    .dataframe tbody tr th:only-of-type {\n",
              "        vertical-align: middle;\n",
              "    }\n",
              "\n",
              "    .dataframe tbody tr th {\n",
              "        vertical-align: top;\n",
              "    }\n",
              "\n",
              "    .dataframe thead th {\n",
              "        text-align: right;\n",
              "    }\n",
              "</style>\n",
              "<table border=\"1\" class=\"dataframe\">\n",
              "  <thead>\n",
              "    <tr style=\"text-align: right;\">\n",
              "      <th></th>\n",
              "      <th>Unnamed: 0</th>\n",
              "      <th>listing_id</th>\n",
              "      <th>name</th>\n",
              "      <th>host_id</th>\n",
              "      <th>host_name</th>\n",
              "      <th>neighbourhood_full</th>\n",
              "      <th>coordinates</th>\n",
              "      <th>room_type</th>\n",
              "      <th>price</th>\n",
              "      <th>number_of_reviews</th>\n",
              "      <th>last_review</th>\n",
              "      <th>reviews_per_month</th>\n",
              "      <th>availability_365</th>\n",
              "      <th>rating</th>\n",
              "      <th>number_of_stays</th>\n",
              "      <th>5_stars</th>\n",
              "      <th>listing_added</th>\n",
              "      <th>latitude</th>\n",
              "      <th>longitude</th>\n",
              "    </tr>\n",
              "  </thead>\n",
              "  <tbody>\n",
              "    <tr>\n",
              "      <th>0</th>\n",
              "      <td>0</td>\n",
              "      <td>13740704</td>\n",
              "      <td>Cozy,budget friendly, cable inc, private entra...</td>\n",
              "      <td>20583125</td>\n",
              "      <td>Michel</td>\n",
              "      <td>Brooklyn, Flatlands</td>\n",
              "      <td>40.63222, -73.93398</td>\n",
              "      <td>Private Room</td>\n",
              "      <td>45$</td>\n",
              "      <td>10</td>\n",
              "      <td>2018-12-12</td>\n",
              "      <td>0.70</td>\n",
              "      <td>85</td>\n",
              "      <td>4.100954</td>\n",
              "      <td>12.0</td>\n",
              "      <td>0.609432</td>\n",
              "      <td>2018-06-08</td>\n",
              "      <td>40.63222</td>\n",
              "      <td>-73.93398</td>\n",
              "    </tr>\n",
              "    <tr>\n",
              "      <th>1</th>\n",
              "      <td>1</td>\n",
              "      <td>22005115</td>\n",
              "      <td>Two floor apartment near Central Park</td>\n",
              "      <td>82746113</td>\n",
              "      <td>Cecilia</td>\n",
              "      <td>Manhattan, Upper West Side</td>\n",
              "      <td>40.78761, -73.96862</td>\n",
              "      <td>Entire Place</td>\n",
              "      <td>135$</td>\n",
              "      <td>1</td>\n",
              "      <td>2019-06-30</td>\n",
              "      <td>1.00</td>\n",
              "      <td>145</td>\n",
              "      <td>3.367600</td>\n",
              "      <td>1.2</td>\n",
              "      <td>0.746135</td>\n",
              "      <td>2018-12-25</td>\n",
              "      <td>40.78761</td>\n",
              "      <td>-73.96862</td>\n",
              "    </tr>\n",
              "    <tr>\n",
              "      <th>2</th>\n",
              "      <td>2</td>\n",
              "      <td>21667615</td>\n",
              "      <td>Beautiful 1BR in Brooklyn Heights</td>\n",
              "      <td>78251</td>\n",
              "      <td>Leslie</td>\n",
              "      <td>Brooklyn, Brooklyn Heights</td>\n",
              "      <td>40.7007, -73.99517</td>\n",
              "      <td>Entire Place</td>\n",
              "      <td>150$</td>\n",
              "      <td>0</td>\n",
              "      <td>NaN</td>\n",
              "      <td>NaN</td>\n",
              "      <td>65</td>\n",
              "      <td>NaN</td>\n",
              "      <td>NaN</td>\n",
              "      <td>NaN</td>\n",
              "      <td>2018-08-15</td>\n",
              "      <td>40.70070</td>\n",
              "      <td>-73.99517</td>\n",
              "    </tr>\n",
              "    <tr>\n",
              "      <th>3</th>\n",
              "      <td>3</td>\n",
              "      <td>6425850</td>\n",
              "      <td>Spacious, charming studio</td>\n",
              "      <td>32715865</td>\n",
              "      <td>Yelena</td>\n",
              "      <td>Manhattan, Upper West Side</td>\n",
              "      <td>40.79169, -73.97498</td>\n",
              "      <td>Entire Place</td>\n",
              "      <td>86$</td>\n",
              "      <td>5</td>\n",
              "      <td>2017-09-23</td>\n",
              "      <td>0.13</td>\n",
              "      <td>0</td>\n",
              "      <td>4.763203</td>\n",
              "      <td>6.0</td>\n",
              "      <td>0.769947</td>\n",
              "      <td>2017-03-20</td>\n",
              "      <td>40.79169</td>\n",
              "      <td>-73.97498</td>\n",
              "    </tr>\n",
              "    <tr>\n",
              "      <th>4</th>\n",
              "      <td>4</td>\n",
              "      <td>22986519</td>\n",
              "      <td>Bedroom on the lively Lower East Side</td>\n",
              "      <td>154262349</td>\n",
              "      <td>Brooke</td>\n",
              "      <td>Manhattan, Lower East Side</td>\n",
              "      <td>40.71884, -73.98354</td>\n",
              "      <td>Private Room</td>\n",
              "      <td>160$</td>\n",
              "      <td>23</td>\n",
              "      <td>2019-06-12</td>\n",
              "      <td>2.29</td>\n",
              "      <td>102</td>\n",
              "      <td>3.822591</td>\n",
              "      <td>27.6</td>\n",
              "      <td>0.649383</td>\n",
              "      <td>2020-10-23</td>\n",
              "      <td>40.71884</td>\n",
              "      <td>-73.98354</td>\n",
              "    </tr>\n",
              "  </tbody>\n",
              "</table>\n",
              "</div>"
            ],
            "text/plain": [
              "   Unnamed: 0  listing_id                                               name  \\\n",
              "0           0    13740704  Cozy,budget friendly, cable inc, private entra...   \n",
              "1           1    22005115              Two floor apartment near Central Park   \n",
              "2           2    21667615                  Beautiful 1BR in Brooklyn Heights   \n",
              "3           3     6425850                          Spacious, charming studio   \n",
              "4           4    22986519              Bedroom on the lively Lower East Side   \n",
              "\n",
              "     host_id host_name          neighbourhood_full          coordinates  \\\n",
              "0   20583125    Michel         Brooklyn, Flatlands  40.63222, -73.93398   \n",
              "1   82746113   Cecilia  Manhattan, Upper West Side  40.78761, -73.96862   \n",
              "2      78251    Leslie  Brooklyn, Brooklyn Heights   40.7007, -73.99517   \n",
              "3   32715865    Yelena  Manhattan, Upper West Side  40.79169, -73.97498   \n",
              "4  154262349    Brooke  Manhattan, Lower East Side  40.71884, -73.98354   \n",
              "\n",
              "      room_type price  number_of_reviews last_review  reviews_per_month  \\\n",
              "0  Private Room   45$                 10  2018-12-12               0.70   \n",
              "1  Entire Place  135$                  1  2019-06-30               1.00   \n",
              "2  Entire Place  150$                  0         NaN                NaN   \n",
              "3  Entire Place   86$                  5  2017-09-23               0.13   \n",
              "4  Private Room  160$                 23  2019-06-12               2.29   \n",
              "\n",
              "   availability_365    rating  number_of_stays   5_stars listing_added  \\\n",
              "0                85  4.100954             12.0  0.609432    2018-06-08   \n",
              "1               145  3.367600              1.2  0.746135    2018-12-25   \n",
              "2                65       NaN              NaN       NaN    2018-08-15   \n",
              "3                 0  4.763203              6.0  0.769947    2017-03-20   \n",
              "4               102  3.822591             27.6  0.649383    2020-10-23   \n",
              "\n",
              "   latitude  longitude  \n",
              "0  40.63222  -73.93398  \n",
              "1  40.78761  -73.96862  \n",
              "2  40.70070  -73.99517  \n",
              "3  40.79169  -73.97498  \n",
              "4  40.71884  -73.98354  "
            ]
          },
          "execution_count": 124,
          "metadata": {},
          "output_type": "execute_result"
        }
      ],
      "source": [
        "# Cek 5 data teratas untuk melihat perubahan yang terjadi\n",
        "data.head()"
      ]
    },
    {
      "cell_type": "markdown",
      "metadata": {
        "id": "MktQegnOS7H-"
      },
      "source": [
        "**Challenge 4**: Kita bersihkan **missing data**"
      ]
    },
    {
      "cell_type": "code",
      "execution_count": 139,
      "metadata": {
        "colab": {
          "base_uri": "https://localhost:8080/",
          "height": 597
        },
        "id": "LFIgvPC7TZKO",
        "outputId": "73835861-2dad-46fb-b2bf-776c47a36e77"
      },
      "outputs": [
        {
          "data": {
            "image/png": "[encoded data removed]",
            "text/plain": [
              "<Figure size 1800x720 with 2 Axes>"
            ]
          },
          "metadata": {
            "needs_background": "light"
          },
          "output_type": "display_data"
        }
      ],
      "source": [
        "# Visualisasi missingness \n",
        "msno.matrix(data)\n",
        "plt.show()"
      ]
    },
    {
      "cell_type": "code",
      "execution_count": 141,
      "metadata": {
        "colab": {
          "base_uri": "https://localhost:8080/",
          "height": 597
        },
        "id": "wq5EVIpmTu4h",
        "outputId": "990337d5-e6b9-4d2d-e6c7-880f1f3495a3"
      },
      "outputs": [
        {
          "data": {
            "image/png": "[encoded data removed]",
            "text/plain": [
              "<Figure size 1800x720 with 2 Axes>"
            ]
          },
          "metadata": {
            "needs_background": "light"
          },
          "output_type": "display_data"
        }
      ],
      "source": [
        "# Visualisasikan missingness berdasarkan rating\n",
        "msno.matrix(data.sort_values( by = 'rating')) \n",
        "plt.show()"
      ]
    },
    {
      "cell_type": "code",
      "execution_count": 62,
      "metadata": {
        "colab": {
          "base_uri": "https://localhost:8080/",
          "height": 648
        },
        "id": "NhftOP4gT1gQ",
        "outputId": "512fd178-3b37-4a2f-bd60-2720dac8d103"
      },
      "outputs": [
        {
          "data": {
            "text/plain": [
              "<matplotlib.axes._subplots.AxesSubplot at 0x7fe116327fd0>"
            ]
          },
          "execution_count": 62,
          "metadata": {},
          "output_type": "execute_result"
        },
        {
          "data": {
            "image/png": "[encoded data removed]",
            "text/plain": [
              "<Figure size 1800x720 with 3 Axes>"
            ]
          },
          "metadata": {
            "needs_background": "light"
          },
          "output_type": "display_data"
        }
      ],
      "source": [
        "# Buat dalam bentuk barplot\n"
      ]
    },
    {
      "cell_type": "code",
      "execution_count": 63,
      "metadata": {
        "colab": {
          "base_uri": "https://localhost:8080/",
          "height": 344
        },
        "id": "Thff8nSjT4C0",
        "outputId": "5bed22ef-9dbe-482b-afaf-b24465d04cdf"
      },
      "outputs": [
        {
          "data": {
            "text/html": [
              "\n",
              "  <div id=\"df-7530dd80-b87c-419a-8538-c5a86bcfc26c\">\n",
              "    <div class=\"colab-df-container\">\n",
              "      <div>\n",
              "<style scoped>\n",
              "    .dataframe tbody tr th:only-of-type {\n",
              "        vertical-align: middle;\n",
              "    }\n",
              "\n",
              "    .dataframe tbody tr th {\n",
              "        vertical-align: top;\n",
              "    }\n",
              "\n",
              "    .dataframe thead th {\n",
              "        text-align: right;\n",
              "    }\n",
              "</style>\n",
              "<table border=\"1\" class=\"dataframe\">\n",
              "  <thead>\n",
              "    <tr style=\"text-align: right;\">\n",
              "      <th></th>\n",
              "      <th>listing_id</th>\n",
              "      <th>host_id</th>\n",
              "      <th>price</th>\n",
              "      <th>number_of_reviews</th>\n",
              "      <th>reviews_per_month</th>\n",
              "      <th>availability_365</th>\n",
              "      <th>rating</th>\n",
              "      <th>number_of_stays</th>\n",
              "      <th>5_stars</th>\n",
              "      <th>latitude</th>\n",
              "      <th>longitude</th>\n",
              "    </tr>\n",
              "  </thead>\n",
              "  <tbody>\n",
              "    <tr>\n",
              "      <th>count</th>\n",
              "      <td>2.075000e+03</td>\n",
              "      <td>2.075000e+03</td>\n",
              "      <td>2028.000000</td>\n",
              "      <td>2075.0</td>\n",
              "      <td>0.0</td>\n",
              "      <td>2075.000000</td>\n",
              "      <td>0.0</td>\n",
              "      <td>0.0</td>\n",
              "      <td>0.0</td>\n",
              "      <td>2075.000000</td>\n",
              "      <td>2075.000000</td>\n",
              "    </tr>\n",
              "    <tr>\n",
              "      <th>mean</th>\n",
              "      <td>2.274238e+07</td>\n",
              "      <td>8.022455e+07</td>\n",
              "      <td>191.553748</td>\n",
              "      <td>0.0</td>\n",
              "      <td>NaN</td>\n",
              "      <td>104.531566</td>\n",
              "      <td>NaN</td>\n",
              "      <td>NaN</td>\n",
              "      <td>NaN</td>\n",
              "      <td>40.732074</td>\n",
              "      <td>-73.956771</td>\n",
              "    </tr>\n",
              "    <tr>\n",
              "      <th>std</th>\n",
              "      <td>1.123730e+07</td>\n",
              "      <td>8.663163e+07</td>\n",
              "      <td>316.186639</td>\n",
              "      <td>0.0</td>\n",
              "      <td>NaN</td>\n",
              "      <td>138.266525</td>\n",
              "      <td>NaN</td>\n",
              "      <td>NaN</td>\n",
              "      <td>NaN</td>\n",
              "      <td>0.051168</td>\n",
              "      <td>0.041065</td>\n",
              "    </tr>\n",
              "    <tr>\n",
              "      <th>min</th>\n",
              "      <td>6.358800e+04</td>\n",
              "      <td>1.475100e+04</td>\n",
              "      <td>0.000000</td>\n",
              "      <td>0.0</td>\n",
              "      <td>NaN</td>\n",
              "      <td>0.000000</td>\n",
              "      <td>NaN</td>\n",
              "      <td>NaN</td>\n",
              "      <td>NaN</td>\n",
              "      <td>40.527000</td>\n",
              "      <td>-74.209410</td>\n",
              "    </tr>\n",
              "    <tr>\n",
              "      <th>25%</th>\n",
              "      <td>1.232923e+07</td>\n",
              "      <td>1.224305e+07</td>\n",
              "      <td>70.000000</td>\n",
              "      <td>0.0</td>\n",
              "      <td>NaN</td>\n",
              "      <td>0.000000</td>\n",
              "      <td>NaN</td>\n",
              "      <td>NaN</td>\n",
              "      <td>NaN</td>\n",
              "      <td>40.697845</td>\n",
              "      <td>-73.985185</td>\n",
              "    </tr>\n",
              "    <tr>\n",
              "      <th>50%</th>\n",
              "      <td>2.345182e+07</td>\n",
              "      <td>4.040116e+07</td>\n",
              "      <td>120.000000</td>\n",
              "      <td>0.0</td>\n",
              "      <td>NaN</td>\n",
              "      <td>7.000000</td>\n",
              "      <td>NaN</td>\n",
              "      <td>NaN</td>\n",
              "      <td>NaN</td>\n",
              "      <td>40.727790</td>\n",
              "      <td>-73.960940</td>\n",
              "    </tr>\n",
              "    <tr>\n",
              "      <th>75%</th>\n",
              "      <td>3.400364e+07</td>\n",
              "      <td>1.333498e+08</td>\n",
              "      <td>205.250000</td>\n",
              "      <td>0.0</td>\n",
              "      <td>NaN</td>\n",
              "      <td>211.000000</td>\n",
              "      <td>NaN</td>\n",
              "      <td>NaN</td>\n",
              "      <td>NaN</td>\n",
              "      <td>40.763480</td>\n",
              "      <td>-73.939540</td>\n",
              "    </tr>\n",
              "    <tr>\n",
              "      <th>max</th>\n",
              "      <td>3.648724e+07</td>\n",
              "      <td>2.741034e+08</td>\n",
              "      <td>5250.000000</td>\n",
              "      <td>0.0</td>\n",
              "      <td>NaN</td>\n",
              "      <td>365.000000</td>\n",
              "      <td>NaN</td>\n",
              "      <td>NaN</td>\n",
              "      <td>NaN</td>\n",
              "      <td>40.911690</td>\n",
              "      <td>-73.727310</td>\n",
              "    </tr>\n",
              "  </tbody>\n",
              "</table>\n",
              "</div>\n",
              "      <button class=\"colab-df-convert\" onclick=\"convertToInteractive('df-7530dd80-b87c-419a-8538-c5a86bcfc26c')\"\n",
              "              title=\"Convert this dataframe to an interactive table.\"\n",
              "              style=\"display:none;\">\n",
              "        \n",
              "  <svg xmlns=\"http://www.w3.org/2000/svg\" height=\"24px\"viewBox=\"0 0 24 24\"\n",
              "       width=\"24px\">\n",
              "    <path d=\"M0 0h24v24H0V0z\" fill=\"none\"/>\n",
              "    <path d=\"M18.56 5.44l.94 2.06.94-2.06 2.06-.94-2.06-.94-.94-2.06-.94 2.06-2.06.94zm-11 1L8.5 8.5l.94-2.06 2.06-.94-2.06-.94L8.5 2.5l-.94 2.06-2.06.94zm10 10l.94 2.06.94-2.06 2.06-.94-2.06-.94-.94-2.06-.94 2.06-2.06.94z\"/><path d=\"M17.41 7.96l-1.37-1.37c-.4-.4-.92-.59-1.43-.59-.52 0-1.04.2-1.43.59L10.3 9.45l-7.72 7.72c-.78.78-.78 2.05 0 2.83L4 21.41c.39.39.9.59 1.41.59.51 0 1.02-.2 1.41-.59l7.78-7.78 2.81-2.81c.8-.78.8-2.07 0-2.86zM5.41 20L4 18.59l7.72-7.72 1.47 1.35L5.41 20z\"/>\n",
              "  </svg>\n",
              "      </button>\n",
              "      \n",
              "  <style>\n",
              "    .colab-df-container {\n",
              "      display:flex;\n",
              "      flex-wrap:wrap;\n",
              "      gap: 12px;\n",
              "    }\n",
              "\n",
              "    .colab-df-convert {\n",
              "      background-color: #E8F0FE;\n",
              "      border: none;\n",
              "      border-radius: 50%;\n",
              "      cursor: pointer;\n",
              "      display: none;\n",
              "      fill: #1967D2;\n",
              "      height: 32px;\n",
              "      padding: 0 0 0 0;\n",
              "      width: 32px;\n",
              "    }\n",
              "\n",
              "    .colab-df-convert:hover {\n",
              "      background-color: #E2EBFA;\n",
              "      box-shadow: 0px 1px 2px rgba(60, 64, 67, 0.3), 0px 1px 3px 1px rgba(60, 64, 67, 0.15);\n",
              "      fill: #174EA6;\n",
              "    }\n",
              "\n",
              "    [theme=dark] .colab-df-convert {\n",
              "      background-color: #3B4455;\n",
              "      fill: #D2E3FC;\n",
              "    }\n",
              "\n",
              "    [theme=dark] .colab-df-convert:hover {\n",
              "      background-color: #434B5C;\n",
              "      box-shadow: 0px 1px 3px 1px rgba(0, 0, 0, 0.15);\n",
              "      filter: drop-shadow(0px 1px 2px rgba(0, 0, 0, 0.3));\n",
              "      fill: #FFFFFF;\n",
              "    }\n",
              "  </style>\n",
              "\n",
              "      <script>\n",
              "        const buttonEl =\n",
              "          document.querySelector('#df-7530dd80-b87c-419a-8538-c5a86bcfc26c button.colab-df-convert');\n",
              "        buttonEl.style.display =\n",
              "          google.colab.kernel.accessAllowed ? 'block' : 'none';\n",
              "\n",
              "        async function convertToInteractive(key) {\n",
              "          const element = document.querySelector('#df-7530dd80-b87c-419a-8538-c5a86bcfc26c');\n",
              "          const dataTable =\n",
              "            await google.colab.kernel.invokeFunction('convertToInteractive',\n",
              "                                                     [key], {});\n",
              "          if (!dataTable) return;\n",
              "\n",
              "          const docLinkHtml = 'Like what you see? Visit the ' +\n",
              "            '<a target=\"_blank\" href=https://colab.research.google.com/notebooks/data_table.ipynb>data table notebook</a>'\n",
              "            + ' to learn more about interactive tables.';\n",
              "          element.innerHTML = '';\n",
              "          dataTable['output_type'] = 'display_data';\n",
              "          await google.colab.output.renderOutput(dataTable, element);\n",
              "          const docLink = document.createElement('div');\n",
              "          docLink.innerHTML = docLinkHtml;\n",
              "          element.appendChild(docLink);\n",
              "        }\n",
              "      </script>\n",
              "    </div>\n",
              "  </div>\n",
              "  "
            ],
            "text/plain": [
              "         listing_id       host_id        price  number_of_reviews  \\\n",
              "count  2.075000e+03  2.075000e+03  2028.000000             2075.0   \n",
              "mean   2.274238e+07  8.022455e+07   191.553748                0.0   \n",
              "std    1.123730e+07  8.663163e+07   316.186639                0.0   \n",
              "min    6.358800e+04  1.475100e+04     0.000000                0.0   \n",
              "25%    1.232923e+07  1.224305e+07    70.000000                0.0   \n",
              "50%    2.345182e+07  4.040116e+07   120.000000                0.0   \n",
              "75%    3.400364e+07  1.333498e+08   205.250000                0.0   \n",
              "max    3.648724e+07  2.741034e+08  5250.000000                0.0   \n",
              "\n",
              "       reviews_per_month  availability_365  rating  number_of_stays  5_stars  \\\n",
              "count                0.0       2075.000000     0.0              0.0      0.0   \n",
              "mean                 NaN        104.531566     NaN              NaN      NaN   \n",
              "std                  NaN        138.266525     NaN              NaN      NaN   \n",
              "min                  NaN          0.000000     NaN              NaN      NaN   \n",
              "25%                  NaN          0.000000     NaN              NaN      NaN   \n",
              "50%                  NaN          7.000000     NaN              NaN      NaN   \n",
              "75%                  NaN        211.000000     NaN              NaN      NaN   \n",
              "max                  NaN        365.000000     NaN              NaN      NaN   \n",
              "\n",
              "          latitude    longitude  \n",
              "count  2075.000000  2075.000000  \n",
              "mean     40.732074   -73.956771  \n",
              "std       0.051168     0.041065  \n",
              "min      40.527000   -74.209410  \n",
              "25%      40.697845   -73.985185  \n",
              "50%      40.727790   -73.960940  \n",
              "75%      40.763480   -73.939540  \n",
              "max      40.911690   -73.727310  "
            ]
          },
          "execution_count": 63,
          "metadata": {},
          "output_type": "execute_result"
        }
      ],
      "source": [
        "# Cek DataFrame yang ada missing values di kolom rating, number_of_stays, 5_stars, reviews_per_month\n"
      ]
    },
    {
      "cell_type": "code",
      "execution_count": 64,
      "metadata": {
        "id": "rYCxqFGaT_Qx"
      },
      "outputs": [],
      "source": [
        "# Lakukan imputasi untuk missing data\n"
      ]
    },
    {
      "cell_type": "code",
      "execution_count": 65,
      "metadata": {
        "id": "rqyuglrjUC-C"
      },
      "outputs": [],
      "source": [
        "# Buat kolom baru, beri nama sudah_dinilai\n"
      ]
    },
    {
      "cell_type": "code",
      "execution_count": 66,
      "metadata": {
        "colab": {
          "base_uri": "https://localhost:8080/",
          "height": 531
        },
        "id": "3LbQDYhAeDoq",
        "outputId": "7b96fc61-2a4a-456c-b4da-19f2cb9166c6"
      },
      "outputs": [
        {
          "data": {
            "text/html": [
              "\n",
              "  <div id=\"df-6733f490-3036-4e89-a54f-bdb867f821fa\">\n",
              "    <div class=\"colab-df-container\">\n",
              "      <div>\n",
              "<style scoped>\n",
              "    .dataframe tbody tr th:only-of-type {\n",
              "        vertical-align: middle;\n",
              "    }\n",
              "\n",
              "    .dataframe tbody tr th {\n",
              "        vertical-align: top;\n",
              "    }\n",
              "\n",
              "    .dataframe thead th {\n",
              "        text-align: right;\n",
              "    }\n",
              "</style>\n",
              "<table border=\"1\" class=\"dataframe\">\n",
              "  <thead>\n",
              "    <tr style=\"text-align: right;\">\n",
              "      <th></th>\n",
              "      <th>listing_id</th>\n",
              "      <th>name</th>\n",
              "      <th>host_id</th>\n",
              "      <th>host_name</th>\n",
              "      <th>neighbourhood_full</th>\n",
              "      <th>room_type</th>\n",
              "      <th>price</th>\n",
              "      <th>number_of_reviews</th>\n",
              "      <th>last_review</th>\n",
              "      <th>reviews_per_month</th>\n",
              "      <th>availability_365</th>\n",
              "      <th>rating</th>\n",
              "      <th>number_of_stays</th>\n",
              "      <th>5_stars</th>\n",
              "      <th>listing_added</th>\n",
              "      <th>latitude</th>\n",
              "      <th>longitude</th>\n",
              "      <th>sudah_dinilai</th>\n",
              "    </tr>\n",
              "  </thead>\n",
              "  <tbody>\n",
              "    <tr>\n",
              "      <th>0</th>\n",
              "      <td>13740704</td>\n",
              "      <td>Cozy,budget friendly, cable inc, private entra...</td>\n",
              "      <td>20583125</td>\n",
              "      <td>Michel</td>\n",
              "      <td>Brooklyn, Flatlands</td>\n",
              "      <td>Private Room</td>\n",
              "      <td>45.0</td>\n",
              "      <td>10</td>\n",
              "      <td>2018-12-12</td>\n",
              "      <td>0.70</td>\n",
              "      <td>85</td>\n",
              "      <td>4.100954</td>\n",
              "      <td>12.0</td>\n",
              "      <td>0.609432</td>\n",
              "      <td>2018-06-08</td>\n",
              "      <td>40.63222</td>\n",
              "      <td>-73.93398</td>\n",
              "      <td>1</td>\n",
              "    </tr>\n",
              "    <tr>\n",
              "      <th>1</th>\n",
              "      <td>22005115</td>\n",
              "      <td>Two floor apartment near Central Park</td>\n",
              "      <td>82746113</td>\n",
              "      <td>Cecilia</td>\n",
              "      <td>Manhattan, Upper West Side</td>\n",
              "      <td>Entire place</td>\n",
              "      <td>135.0</td>\n",
              "      <td>1</td>\n",
              "      <td>2019-06-30</td>\n",
              "      <td>1.00</td>\n",
              "      <td>145</td>\n",
              "      <td>3.367600</td>\n",
              "      <td>1.2</td>\n",
              "      <td>0.746135</td>\n",
              "      <td>2018-12-25</td>\n",
              "      <td>40.78761</td>\n",
              "      <td>-73.96862</td>\n",
              "      <td>1</td>\n",
              "    </tr>\n",
              "    <tr>\n",
              "      <th>2</th>\n",
              "      <td>21667615</td>\n",
              "      <td>Beautiful 1BR in Brooklyn Heights</td>\n",
              "      <td>78251</td>\n",
              "      <td>Leslie</td>\n",
              "      <td>Brooklyn, Brooklyn Heights</td>\n",
              "      <td>Entire place</td>\n",
              "      <td>150.0</td>\n",
              "      <td>0</td>\n",
              "      <td>NaN</td>\n",
              "      <td>0.00</td>\n",
              "      <td>65</td>\n",
              "      <td>NaN</td>\n",
              "      <td>0.0</td>\n",
              "      <td>0.000000</td>\n",
              "      <td>2018-08-15</td>\n",
              "      <td>40.70070</td>\n",
              "      <td>-73.99517</td>\n",
              "      <td>0</td>\n",
              "    </tr>\n",
              "    <tr>\n",
              "      <th>3</th>\n",
              "      <td>6425850</td>\n",
              "      <td>Spacious, charming studio</td>\n",
              "      <td>32715865</td>\n",
              "      <td>Yelena</td>\n",
              "      <td>Manhattan, Upper West Side</td>\n",
              "      <td>Entire place</td>\n",
              "      <td>86.0</td>\n",
              "      <td>5</td>\n",
              "      <td>2017-09-23</td>\n",
              "      <td>0.13</td>\n",
              "      <td>0</td>\n",
              "      <td>4.763203</td>\n",
              "      <td>6.0</td>\n",
              "      <td>0.769947</td>\n",
              "      <td>2017-03-20</td>\n",
              "      <td>40.79169</td>\n",
              "      <td>-73.97498</td>\n",
              "      <td>1</td>\n",
              "    </tr>\n",
              "    <tr>\n",
              "      <th>4</th>\n",
              "      <td>22986519</td>\n",
              "      <td>Bedroom on the lively Lower East Side</td>\n",
              "      <td>154262349</td>\n",
              "      <td>Brooke</td>\n",
              "      <td>Manhattan, Lower East Side</td>\n",
              "      <td>Private Room</td>\n",
              "      <td>160.0</td>\n",
              "      <td>23</td>\n",
              "      <td>2019-06-12</td>\n",
              "      <td>2.29</td>\n",
              "      <td>102</td>\n",
              "      <td>3.822591</td>\n",
              "      <td>27.6</td>\n",
              "      <td>0.649383</td>\n",
              "      <td>2020-10-23</td>\n",
              "      <td>40.71884</td>\n",
              "      <td>-73.98354</td>\n",
              "      <td>1</td>\n",
              "    </tr>\n",
              "  </tbody>\n",
              "</table>\n",
              "</div>\n",
              "      <button class=\"colab-df-convert\" onclick=\"convertToInteractive('df-6733f490-3036-4e89-a54f-bdb867f821fa')\"\n",
              "              title=\"Convert this dataframe to an interactive table.\"\n",
              "              style=\"display:none;\">\n",
              "        \n",
              "  <svg xmlns=\"http://www.w3.org/2000/svg\" height=\"24px\"viewBox=\"0 0 24 24\"\n",
              "       width=\"24px\">\n",
              "    <path d=\"M0 0h24v24H0V0z\" fill=\"none\"/>\n",
              "    <path d=\"M18.56 5.44l.94 2.06.94-2.06 2.06-.94-2.06-.94-.94-2.06-.94 2.06-2.06.94zm-11 1L8.5 8.5l.94-2.06 2.06-.94-2.06-.94L8.5 2.5l-.94 2.06-2.06.94zm10 10l.94 2.06.94-2.06 2.06-.94-2.06-.94-.94-2.06-.94 2.06-2.06.94z\"/><path d=\"M17.41 7.96l-1.37-1.37c-.4-.4-.92-.59-1.43-.59-.52 0-1.04.2-1.43.59L10.3 9.45l-7.72 7.72c-.78.78-.78 2.05 0 2.83L4 21.41c.39.39.9.59 1.41.59.51 0 1.02-.2 1.41-.59l7.78-7.78 2.81-2.81c.8-.78.8-2.07 0-2.86zM5.41 20L4 18.59l7.72-7.72 1.47 1.35L5.41 20z\"/>\n",
              "  </svg>\n",
              "      </button>\n",
              "      \n",
              "  <style>\n",
              "    .colab-df-container {\n",
              "      display:flex;\n",
              "      flex-wrap:wrap;\n",
              "      gap: 12px;\n",
              "    }\n",
              "\n",
              "    .colab-df-convert {\n",
              "      background-color: #E8F0FE;\n",
              "      border: none;\n",
              "      border-radius: 50%;\n",
              "      cursor: pointer;\n",
              "      display: none;\n",
              "      fill: #1967D2;\n",
              "      height: 32px;\n",
              "      padding: 0 0 0 0;\n",
              "      width: 32px;\n",
              "    }\n",
              "\n",
              "    .colab-df-convert:hover {\n",
              "      background-color: #E2EBFA;\n",
              "      box-shadow: 0px 1px 2px rgba(60, 64, 67, 0.3), 0px 1px 3px 1px rgba(60, 64, 67, 0.15);\n",
              "      fill: #174EA6;\n",
              "    }\n",
              "\n",
              "    [theme=dark] .colab-df-convert {\n",
              "      background-color: #3B4455;\n",
              "      fill: #D2E3FC;\n",
              "    }\n",
              "\n",
              "    [theme=dark] .colab-df-convert:hover {\n",
              "      background-color: #434B5C;\n",
              "      box-shadow: 0px 1px 3px 1px rgba(0, 0, 0, 0.15);\n",
              "      filter: drop-shadow(0px 1px 2px rgba(0, 0, 0, 0.3));\n",
              "      fill: #FFFFFF;\n",
              "    }\n",
              "  </style>\n",
              "\n",
              "      <script>\n",
              "        const buttonEl =\n",
              "          document.querySelector('#df-6733f490-3036-4e89-a54f-bdb867f821fa button.colab-df-convert');\n",
              "        buttonEl.style.display =\n",
              "          google.colab.kernel.accessAllowed ? 'block' : 'none';\n",
              "\n",
              "        async function convertToInteractive(key) {\n",
              "          const element = document.querySelector('#df-6733f490-3036-4e89-a54f-bdb867f821fa');\n",
              "          const dataTable =\n",
              "            await google.colab.kernel.invokeFunction('convertToInteractive',\n",
              "                                                     [key], {});\n",
              "          if (!dataTable) return;\n",
              "\n",
              "          const docLinkHtml = 'Like what you see? Visit the ' +\n",
              "            '<a target=\"_blank\" href=https://colab.research.google.com/notebooks/data_table.ipynb>data table notebook</a>'\n",
              "            + ' to learn more about interactive tables.';\n",
              "          element.innerHTML = '';\n",
              "          dataTable['output_type'] = 'display_data';\n",
              "          await google.colab.output.renderOutput(dataTable, element);\n",
              "          const docLink = document.createElement('div');\n",
              "          docLink.innerHTML = docLinkHtml;\n",
              "          element.appendChild(docLink);\n",
              "        }\n",
              "      </script>\n",
              "    </div>\n",
              "  </div>\n",
              "  "
            ],
            "text/plain": [
              "   listing_id                                               name    host_id  \\\n",
              "0    13740704  Cozy,budget friendly, cable inc, private entra...   20583125   \n",
              "1    22005115              Two floor apartment near Central Park   82746113   \n",
              "2    21667615                  Beautiful 1BR in Brooklyn Heights      78251   \n",
              "3     6425850                          Spacious, charming studio   32715865   \n",
              "4    22986519              Bedroom on the lively Lower East Side  154262349   \n",
              "\n",
              "  host_name          neighbourhood_full     room_type  price  \\\n",
              "0    Michel         Brooklyn, Flatlands  Private Room   45.0   \n",
              "1   Cecilia  Manhattan, Upper West Side  Entire place  135.0   \n",
              "2    Leslie  Brooklyn, Brooklyn Heights  Entire place  150.0   \n",
              "3    Yelena  Manhattan, Upper West Side  Entire place   86.0   \n",
              "4    Brooke  Manhattan, Lower East Side  Private Room  160.0   \n",
              "\n",
              "   number_of_reviews last_review  reviews_per_month  availability_365  \\\n",
              "0                 10  2018-12-12               0.70                85   \n",
              "1                  1  2019-06-30               1.00               145   \n",
              "2                  0         NaN               0.00                65   \n",
              "3                  5  2017-09-23               0.13                 0   \n",
              "4                 23  2019-06-12               2.29               102   \n",
              "\n",
              "     rating  number_of_stays   5_stars listing_added  latitude  longitude  \\\n",
              "0  4.100954             12.0  0.609432    2018-06-08  40.63222  -73.93398   \n",
              "1  3.367600              1.2  0.746135    2018-12-25  40.78761  -73.96862   \n",
              "2       NaN              0.0  0.000000    2018-08-15  40.70070  -73.99517   \n",
              "3  4.763203              6.0  0.769947    2017-03-20  40.79169  -73.97498   \n",
              "4  3.822591             27.6  0.649383    2020-10-23  40.71884  -73.98354   \n",
              "\n",
              "   sudah_dinilai  \n",
              "0              1  \n",
              "1              1  \n",
              "2              0  \n",
              "3              1  \n",
              "4              1  "
            ]
          },
          "execution_count": 66,
          "metadata": {},
          "output_type": "execute_result"
        }
      ],
      "source": [
        "# Cek data\n"
      ]
    },
    {
      "cell_type": "markdown",
      "metadata": {
        "id": "JzXib411emo3"
      },
      "source": [
        "**Challenge 5**: Hapus kolom-kolom berikut\n",
        "\n",
        "\n",
        "1.   neighbourhood_full\n",
        "2.   number_of_reviews\n",
        "3.   last_review\n",
        "4.   reviews_per_month\n",
        "5.   availability_365\n",
        "6.   number_of_stays\n",
        "7.   5_stars\n",
        "8.   listing_added\n",
        "\n",
        "\n",
        "\n",
        "\n",
        "\n",
        "\n",
        "\n"
      ]
    },
    {
      "cell_type": "code",
      "execution_count": 147,
      "metadata": {
        "id": "hFcIOmijeGtG"
      },
      "outputs": [],
      "source": [
        "# Hapus beberapa kolom yang tidak dibutuhkan\n",
        "hapus = ['neighbourhood_full','number_of_reviews','last_review','reviews_per_month','availability_365','number_of_stays','5_stars','listing_added']\n",
        "data.drop(hapus, inplace=True, axis=1)"
      ]
    },
    {
      "cell_type": "code",
      "execution_count": 148,
      "metadata": {
        "id": "QbDozJHifYbu"
      },
      "outputs": [
        {
          "data": {
            "text/html": [
              "<div>\n",
              "<style scoped>\n",
              "    .dataframe tbody tr th:only-of-type {\n",
              "        vertical-align: middle;\n",
              "    }\n",
              "\n",
              "    .dataframe tbody tr th {\n",
              "        vertical-align: top;\n",
              "    }\n",
              "\n",
              "    .dataframe thead th {\n",
              "        text-align: right;\n",
              "    }\n",
              "</style>\n",
              "<table border=\"1\" class=\"dataframe\">\n",
              "  <thead>\n",
              "    <tr style=\"text-align: right;\">\n",
              "      <th></th>\n",
              "      <th>Unnamed: 0</th>\n",
              "      <th>listing_id</th>\n",
              "      <th>name</th>\n",
              "      <th>host_id</th>\n",
              "      <th>host_name</th>\n",
              "      <th>coordinates</th>\n",
              "      <th>room_type</th>\n",
              "      <th>price</th>\n",
              "      <th>number_of_reviews</th>\n",
              "      <th>reviews_per_month</th>\n",
              "      <th>availability_365</th>\n",
              "      <th>rating</th>\n",
              "      <th>number_of_stays</th>\n",
              "      <th>5_stars</th>\n",
              "      <th>listing_added</th>\n",
              "    </tr>\n",
              "  </thead>\n",
              "  <tbody>\n",
              "    <tr>\n",
              "      <th>0</th>\n",
              "      <td>0</td>\n",
              "      <td>13740704</td>\n",
              "      <td>Cozy,budget friendly, cable inc, private entra...</td>\n",
              "      <td>20583125</td>\n",
              "      <td>Michel</td>\n",
              "      <td>(40.63222, -73.93398)</td>\n",
              "      <td>Private room</td>\n",
              "      <td>45$</td>\n",
              "      <td>10</td>\n",
              "      <td>0.70</td>\n",
              "      <td>85</td>\n",
              "      <td>4.100954</td>\n",
              "      <td>12.0</td>\n",
              "      <td>0.609432</td>\n",
              "      <td>2018-06-08</td>\n",
              "    </tr>\n",
              "    <tr>\n",
              "      <th>1</th>\n",
              "      <td>1</td>\n",
              "      <td>22005115</td>\n",
              "      <td>Two floor apartment near Central Park</td>\n",
              "      <td>82746113</td>\n",
              "      <td>Cecilia</td>\n",
              "      <td>(40.78761, -73.96862)</td>\n",
              "      <td>Entire home/apt</td>\n",
              "      <td>135$</td>\n",
              "      <td>1</td>\n",
              "      <td>1.00</td>\n",
              "      <td>145</td>\n",
              "      <td>3.367600</td>\n",
              "      <td>1.2</td>\n",
              "      <td>0.746135</td>\n",
              "      <td>2018-12-25</td>\n",
              "    </tr>\n",
              "    <tr>\n",
              "      <th>2</th>\n",
              "      <td>2</td>\n",
              "      <td>21667615</td>\n",
              "      <td>Beautiful 1BR in Brooklyn Heights</td>\n",
              "      <td>78251</td>\n",
              "      <td>Leslie</td>\n",
              "      <td>(40.7007, -73.99517)</td>\n",
              "      <td>Entire home/apt</td>\n",
              "      <td>150$</td>\n",
              "      <td>0</td>\n",
              "      <td>NaN</td>\n",
              "      <td>65</td>\n",
              "      <td>NaN</td>\n",
              "      <td>NaN</td>\n",
              "      <td>NaN</td>\n",
              "      <td>2018-08-15</td>\n",
              "    </tr>\n",
              "    <tr>\n",
              "      <th>3</th>\n",
              "      <td>3</td>\n",
              "      <td>6425850</td>\n",
              "      <td>Spacious, charming studio</td>\n",
              "      <td>32715865</td>\n",
              "      <td>Yelena</td>\n",
              "      <td>(40.79169, -73.97498)</td>\n",
              "      <td>Entire home/apt</td>\n",
              "      <td>86$</td>\n",
              "      <td>5</td>\n",
              "      <td>0.13</td>\n",
              "      <td>0</td>\n",
              "      <td>4.763203</td>\n",
              "      <td>6.0</td>\n",
              "      <td>0.769947</td>\n",
              "      <td>2017-03-20</td>\n",
              "    </tr>\n",
              "    <tr>\n",
              "      <th>4</th>\n",
              "      <td>4</td>\n",
              "      <td>22986519</td>\n",
              "      <td>Bedroom on the lively Lower East Side</td>\n",
              "      <td>154262349</td>\n",
              "      <td>Brooke</td>\n",
              "      <td>(40.71884, -73.98354)</td>\n",
              "      <td>Private room</td>\n",
              "      <td>160$</td>\n",
              "      <td>23</td>\n",
              "      <td>2.29</td>\n",
              "      <td>102</td>\n",
              "      <td>3.822591</td>\n",
              "      <td>27.6</td>\n",
              "      <td>0.649383</td>\n",
              "      <td>2020-10-23</td>\n",
              "    </tr>\n",
              "    <tr>\n",
              "      <th>...</th>\n",
              "      <td>...</td>\n",
              "      <td>...</td>\n",
              "      <td>...</td>\n",
              "      <td>...</td>\n",
              "      <td>...</td>\n",
              "      <td>...</td>\n",
              "      <td>...</td>\n",
              "      <td>...</td>\n",
              "      <td>...</td>\n",
              "      <td>...</td>\n",
              "      <td>...</td>\n",
              "      <td>...</td>\n",
              "      <td>...</td>\n",
              "      <td>...</td>\n",
              "      <td>...</td>\n",
              "    </tr>\n",
              "    <tr>\n",
              "      <th>10014</th>\n",
              "      <td>10014</td>\n",
              "      <td>22307861</td>\n",
              "      <td>Lovely 1BR Harlem apartment</td>\n",
              "      <td>16004068</td>\n",
              "      <td>Rachel</td>\n",
              "      <td>(40.80379, -73.95257)</td>\n",
              "      <td>Entire home/apt</td>\n",
              "      <td>105$</td>\n",
              "      <td>4</td>\n",
              "      <td>0.21</td>\n",
              "      <td>0</td>\n",
              "      <td>4.757555</td>\n",
              "      <td>4.8</td>\n",
              "      <td>0.639223</td>\n",
              "      <td>2017-11-22</td>\n",
              "    </tr>\n",
              "    <tr>\n",
              "      <th>10015</th>\n",
              "      <td>10015</td>\n",
              "      <td>953275</td>\n",
              "      <td>Apartment For Your Holidays in NYC!</td>\n",
              "      <td>4460034</td>\n",
              "      <td>Alain</td>\n",
              "      <td>(40.79531, -73.9333)</td>\n",
              "      <td>Entire home/apt</td>\n",
              "      <td>125$</td>\n",
              "      <td>50</td>\n",
              "      <td>0.66</td>\n",
              "      <td>188</td>\n",
              "      <td>4.344704</td>\n",
              "      <td>60.0</td>\n",
              "      <td>0.648778</td>\n",
              "      <td>2017-10-31</td>\n",
              "    </tr>\n",
              "    <tr>\n",
              "      <th>10016</th>\n",
              "      <td>10016</td>\n",
              "      <td>3452835</td>\n",
              "      <td>Artsy, Garden Getaway in Central Brooklyn</td>\n",
              "      <td>666862</td>\n",
              "      <td>Amy</td>\n",
              "      <td>(40.68266, -73.96743000000002)</td>\n",
              "      <td>Entire home/apt</td>\n",
              "      <td>100$</td>\n",
              "      <td>45</td>\n",
              "      <td>0.98</td>\n",
              "      <td>0</td>\n",
              "      <td>3.966214</td>\n",
              "      <td>54.0</td>\n",
              "      <td>0.631713</td>\n",
              "      <td>2016-05-24</td>\n",
              "    </tr>\n",
              "    <tr>\n",
              "      <th>10017</th>\n",
              "      <td>10017</td>\n",
              "      <td>23540194</td>\n",
              "      <td>Immaculate townhouse in Clinton Hill, Brooklyn</td>\n",
              "      <td>67176930</td>\n",
              "      <td>Sophie</td>\n",
              "      <td>(40.68832, -73.96366)</td>\n",
              "      <td>Entire home/apt</td>\n",
              "      <td>450$</td>\n",
              "      <td>2</td>\n",
              "      <td>0.17</td>\n",
              "      <td>99</td>\n",
              "      <td>4.078581</td>\n",
              "      <td>2.4</td>\n",
              "      <td>0.703360</td>\n",
              "      <td>2018-11-25</td>\n",
              "    </tr>\n",
              "    <tr>\n",
              "      <th>10018</th>\n",
              "      <td>10018</td>\n",
              "      <td>32876011</td>\n",
              "      <td>Private room in a perfect location in the city</td>\n",
              "      <td>59583716</td>\n",
              "      <td>Shai</td>\n",
              "      <td>(40.76174, -73.96625)</td>\n",
              "      <td>Private room</td>\n",
              "      <td>90$</td>\n",
              "      <td>1</td>\n",
              "      <td>0.25</td>\n",
              "      <td>8</td>\n",
              "      <td>4.069096</td>\n",
              "      <td>1.2</td>\n",
              "      <td>0.720249</td>\n",
              "      <td>2018-09-06</td>\n",
              "    </tr>\n",
              "  </tbody>\n",
              "</table>\n",
              "<p>10019 rows × 15 columns</p>\n",
              "</div>"
            ],
            "text/plain": [
              "       Unnamed: 0  listing_id  \\\n",
              "0               0    13740704   \n",
              "1               1    22005115   \n",
              "2               2    21667615   \n",
              "3               3     6425850   \n",
              "4               4    22986519   \n",
              "...           ...         ...   \n",
              "10014       10014    22307861   \n",
              "10015       10015      953275   \n",
              "10016       10016     3452835   \n",
              "10017       10017    23540194   \n",
              "10018       10018    32876011   \n",
              "\n",
              "                                                    name    host_id host_name  \\\n",
              "0      Cozy,budget friendly, cable inc, private entra...   20583125    Michel   \n",
              "1                  Two floor apartment near Central Park   82746113   Cecilia   \n",
              "2                      Beautiful 1BR in Brooklyn Heights      78251    Leslie   \n",
              "3                              Spacious, charming studio   32715865    Yelena   \n",
              "4                  Bedroom on the lively Lower East Side  154262349    Brooke   \n",
              "...                                                  ...        ...       ...   \n",
              "10014                        Lovely 1BR Harlem apartment   16004068    Rachel   \n",
              "10015                Apartment For Your Holidays in NYC!    4460034     Alain   \n",
              "10016          Artsy, Garden Getaway in Central Brooklyn     666862       Amy   \n",
              "10017     Immaculate townhouse in Clinton Hill, Brooklyn   67176930    Sophie   \n",
              "10018     Private room in a perfect location in the city   59583716      Shai   \n",
              "\n",
              "                          coordinates        room_type price  \\\n",
              "0               (40.63222, -73.93398)     Private room   45$   \n",
              "1               (40.78761, -73.96862)  Entire home/apt  135$   \n",
              "2                (40.7007, -73.99517)  Entire home/apt  150$   \n",
              "3               (40.79169, -73.97498)  Entire home/apt   86$   \n",
              "4               (40.71884, -73.98354)     Private room  160$   \n",
              "...                               ...              ...   ...   \n",
              "10014           (40.80379, -73.95257)  Entire home/apt  105$   \n",
              "10015            (40.79531, -73.9333)  Entire home/apt  125$   \n",
              "10016  (40.68266, -73.96743000000002)  Entire home/apt  100$   \n",
              "10017           (40.68832, -73.96366)  Entire home/apt  450$   \n",
              "10018           (40.76174, -73.96625)     Private room   90$   \n",
              "\n",
              "       number_of_reviews  reviews_per_month  availability_365    rating  \\\n",
              "0                     10               0.70                85  4.100954   \n",
              "1                      1               1.00               145  3.367600   \n",
              "2                      0                NaN                65       NaN   \n",
              "3                      5               0.13                 0  4.763203   \n",
              "4                     23               2.29               102  3.822591   \n",
              "...                  ...                ...               ...       ...   \n",
              "10014                  4               0.21                 0  4.757555   \n",
              "10015                 50               0.66               188  4.344704   \n",
              "10016                 45               0.98                 0  3.966214   \n",
              "10017                  2               0.17                99  4.078581   \n",
              "10018                  1               0.25                 8  4.069096   \n",
              "\n",
              "       number_of_stays   5_stars listing_added  \n",
              "0                 12.0  0.609432    2018-06-08  \n",
              "1                  1.2  0.746135    2018-12-25  \n",
              "2                  NaN       NaN    2018-08-15  \n",
              "3                  6.0  0.769947    2017-03-20  \n",
              "4                 27.6  0.649383    2020-10-23  \n",
              "...                ...       ...           ...  \n",
              "10014              4.8  0.639223    2017-11-22  \n",
              "10015             60.0  0.648778    2017-10-31  \n",
              "10016             54.0  0.631713    2016-05-24  \n",
              "10017              2.4  0.703360    2018-11-25  \n",
              "10018              1.2  0.720249    2018-09-06  \n",
              "\n",
              "[10019 rows x 15 columns]"
            ]
          },
          "execution_count": 148,
          "metadata": {},
          "output_type": "execute_result"
        }
      ],
      "source": [
        "# Tampilkan data\n",
        "df"
      ]
    }
  ],
  "metadata": {
    "colab": {
      "name": "TTS_NIM.ipynb",
      "provenance": []
    },
    "kernelspec": {
      "display_name": "Python 3",
      "name": "python3"
    },
    "language_info": {
      "codemirror_mode": {
        "name": "ipython",
        "version": 3
      },
      "file_extension": ".py",
      "mimetype": "text/x-python",
      "name": "python",
      "nbconvert_exporter": "python",
      "pygments_lexer": "ipython3",
      "version": "3.10.2"
    }
  },
  "nbformat": 4,
  "nbformat_minor": 0
}
